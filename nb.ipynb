{
 "cells": [
  {
   "cell_type": "code",
   "execution_count": 1,
   "id": "778345ca",
   "metadata": {},
   "outputs": [
    {
     "name": "stderr",
     "output_type": "stream",
     "text": [
      "CRITICAL:root:Install the 'bacnet-ingress' module, e.g. 'pip install buildingmotif[bacnet-ingress]'\n"
     ]
    }
   ],
   "source": [
    "from semantic_mpc_interface import (\n",
    "    LoadModel,\n",
    "    get_thermostat_data,\n",
    "    HPFlexSurvey,\n",
    "    convert_units,\n",
    "    SHACLHandler,\n",
    "    inline_shapes\n",
    ")\n",
    "from semantic_mpc_interface.utils import query_to_df\n",
    "from buildingmotif.namespaces import BRICK, RDF, S223\n",
    "from rdflib import URIRef\n",
    "from buildingmotif import BuildingMOTIF\n",
    "from buildingmotif.dataclasses import Library\n",
    "import csv\n",
    "from pyshacl.rdfutil import clone\n",
    "\n",
    "# SELECT ONTOLOGY \n",
    "ontology = 'brick'\n",
    "\n",
    "# base path\n",
    "base_path = f'{ontology}'"
   ]
  },
  {
   "cell_type": "code",
   "execution_count": 2,
   "id": "c6398188",
   "metadata": {},
   "outputs": [],
   "source": [
    "# Please disregard excessive outputs (logging and warnings) from bmotif\n",
    "import logging\n",
    "logging.disable(logging.CRITICAL)\n",
    "import warnings\n",
    "warnings.filterwarnings(\"ignore\")"
   ]
  },
  {
   "cell_type": "code",
   "execution_count": 3,
   "id": "acf9e0e3",
   "metadata": {},
   "outputs": [
    {
     "data": {
      "text/plain": [
       "<Graph identifier=Nfe2fee6d9665468fa89cc616f5a541b0 (<class 'rdflib.graph.Graph'>)>"
      ]
     },
     "execution_count": 3,
     "metadata": {},
     "output_type": "execute_result"
    }
   ],
   "source": [
    "handler = SHACLHandler(ontology=ontology, template_dir = '/Users/lazlopaul/Desktop/223p/experiments/simbuild-semantic-25/templates')\n",
    "\n",
    "# Generate shapes\n",
    "handler.generate_shapes()\n",
    "\n",
    "# Save shapes\n",
    "handler.save_shapes(f'{base_path}/shapes.ttl')\n",
    "# also save more human readable shapes\n",
    "inline_shapes(handler.shapes_graph).serialize(f\"{base_path}/inlined_shapes.ttl\")\n"
   ]
  },
  {
   "cell_type": "code",
   "execution_count": null,
   "id": "f7413e5c",
   "metadata": {},
   "outputs": [],
   "source": []
  },
  {
   "cell_type": "code",
   "execution_count": null,
   "id": "de5a2f3d",
   "metadata": {},
   "outputs": [],
   "source": []
  }
 ],
 "metadata": {
  "kernelspec": {
   "display_name": "simbuild-semantic-25",
   "language": "python",
   "name": "python3"
  },
  "language_info": {
   "codemirror_mode": {
    "name": "ipython",
    "version": 3
   },
   "file_extension": ".py",
   "mimetype": "text/x-python",
   "name": "python",
   "nbconvert_exporter": "python",
   "pygments_lexer": "ipython3",
   "version": "3.11.11"
  }
 },
 "nbformat": 4,
 "nbformat_minor": 5
}
