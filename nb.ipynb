{
 "cells": [
  {
   "cell_type": "code",
   "execution_count": 1,
   "id": "778345ca",
   "metadata": {},
   "outputs": [
    {
     "name": "stderr",
     "output_type": "stream",
     "text": [
      "CRITICAL:root:Install the 'bacnet-ingress' module, e.g. 'pip install buildingmotif[bacnet-ingress]'\n"
     ]
    }
   ],
   "source": [
    "from semantic_mpc_interface import (\n",
    "    LoadModel,\n",
    "    get_thermostat_data,\n",
    "    HPFlexSurvey,\n",
    "    convert_units,\n",
    "    SHACLHandler,\n",
    "    inline_shapes\n",
    ")\n",
    "from semantic_mpc_interface.utils import query_to_df\n",
    "from buildingmotif.namespaces import BRICK, RDF, S223\n",
    "from rdflib import URIRef\n",
    "from buildingmotif import BuildingMOTIF\n",
    "from buildingmotif.dataclasses import Library\n",
    "import csv\n",
    "from pyshacl.rdfutil import clone\n",
    "\n",
    "# SELECT ONTOLOGY \n",
    "ontology = 'brick'\n",
    "\n",
    "# base path\n",
    "base_path = f'{ontology}'"
   ]
  },
  {
   "cell_type": "code",
   "execution_count": 2,
   "id": "c6398188",
   "metadata": {},
   "outputs": [],
   "source": [
    "# Please disregard excessive outputs (logging and warnings) from bmotif\n",
    "import logging\n",
    "logging.disable(logging.CRITICAL)\n",
    "import warnings\n",
    "warnings.filterwarnings(\"ignore\")"
   ]
  },
  {
   "cell_type": "code",
   "execution_count": 3,
   "id": "acf9e0e3",
   "metadata": {},
   "outputs": [
    {
     "name": "stdout",
     "output_type": "stream",
     "text": [
      "BuildingMOTIF does not exist, instantiating: \n"
     ]
    },
    {
     "ename": "AttributeError",
     "evalue": "'NoneType' object has no attribute 'items'",
     "output_type": "error",
     "traceback": [
      "\u001b[31m---------------------------------------------------------------------------\u001b[39m",
      "\u001b[31mSingletonNotInstantiatedException\u001b[39m         Traceback (most recent call last)",
      "\u001b[36mFile \u001b[39m\u001b[32m~/Desktop/223p/experiments/simbuild-semantic-25/.venv/lib/python3.11/site-packages/semantic_mpc_interface/generate_shacl.py:55\u001b[39m, in \u001b[36mSHACLHandler._load_templates\u001b[39m\u001b[34m(self, template_base_dir)\u001b[39m\n\u001b[32m     54\u001b[39m \u001b[38;5;28;01mtry\u001b[39;00m:\n\u001b[32m---> \u001b[39m\u001b[32m55\u001b[39m     \u001b[38;5;28mself\u001b[39m.bm = \u001b[43mget_building_motif\u001b[49m\u001b[43m(\u001b[49m\u001b[43m)\u001b[49m\n\u001b[32m     56\u001b[39m     \u001b[38;5;28mself\u001b[39m.template_library = Library.load(db_id=\u001b[32m1\u001b[39m)\n",
      "\u001b[36mFile \u001b[39m\u001b[32m~/Desktop/223p/experiments/simbuild-semantic-25/.venv/lib/python3.11/site-packages/buildingmotif/building_motif/building_motif.py:147\u001b[39m, in \u001b[36mget_building_motif\u001b[39m\u001b[34m()\u001b[39m\n\u001b[32m    146\u001b[39m     \u001b[38;5;28;01mreturn\u001b[39;00m BuildingMOTIF.instance  \u001b[38;5;66;03m# type: ignore\u001b[39;00m\n\u001b[32m--> \u001b[39m\u001b[32m147\u001b[39m \u001b[38;5;28;01mraise\u001b[39;00m SingletonNotInstantiatedException\n",
      "\u001b[31mSingletonNotInstantiatedException\u001b[39m: ",
      "\nDuring handling of the above exception, another exception occurred:\n",
      "\u001b[31mAttributeError\u001b[39m                            Traceback (most recent call last)",
      "\u001b[36mCell\u001b[39m\u001b[36m \u001b[39m\u001b[32mIn[3]\u001b[39m\u001b[32m, line 1\u001b[39m\n\u001b[32m----> \u001b[39m\u001b[32m1\u001b[39m handler = \u001b[43mSHACLHandler\u001b[49m\u001b[43m(\u001b[49m\u001b[43montology\u001b[49m\u001b[43m=\u001b[49m\u001b[43montology\u001b[49m\u001b[43m,\u001b[49m\u001b[43m \u001b[49m\u001b[43mtemplate_dir\u001b[49m\u001b[43m \u001b[49m\u001b[43m=\u001b[49m\u001b[43m \u001b[49m\u001b[33;43m'\u001b[39;49m\u001b[33;43m/Users/lazlopaul/Desktop/223p/experiments/simbuild-semantic-25/templates\u001b[39;49m\u001b[33;43m'\u001b[39;49m\u001b[43m)\u001b[49m\n\u001b[32m      3\u001b[39m \u001b[38;5;66;03m# Generate shapes\u001b[39;00m\n\u001b[32m      4\u001b[39m handler.generate_shapes()\n",
      "\u001b[36mFile \u001b[39m\u001b[32m~/Desktop/223p/experiments/simbuild-semantic-25/.venv/lib/python3.11/site-packages/semantic_mpc_interface/generate_shacl.py:32\u001b[39m, in \u001b[36mSHACLHandler.__init__\u001b[39m\u001b[34m(self, ontology, template_dir)\u001b[39m\n\u001b[32m     30\u001b[39m bind_prefixes(\u001b[38;5;28mself\u001b[39m.shapes_graph)\n\u001b[32m     31\u001b[39m \u001b[38;5;28mself\u001b[39m.ontology = ontology\n\u001b[32m---> \u001b[39m\u001b[32m32\u001b[39m \u001b[38;5;28;43mself\u001b[39;49m\u001b[43m.\u001b[49m\u001b[43m_load_templates\u001b[49m\u001b[43m(\u001b[49m\u001b[43mtemplate_base_dir\u001b[49m\u001b[43m=\u001b[49m\u001b[43mtemplate_dir\u001b[49m\u001b[43m)\u001b[49m\n",
      "\u001b[36mFile \u001b[39m\u001b[32m~/Desktop/223p/experiments/simbuild-semantic-25/.venv/lib/python3.11/site-packages/semantic_mpc_interface/generate_shacl.py:60\u001b[39m, in \u001b[36mSHACLHandler._load_templates\u001b[39m\u001b[34m(self, template_base_dir)\u001b[39m\n\u001b[32m     58\u001b[39m \u001b[38;5;28mprint\u001b[39m(\u001b[33m\"\u001b[39m\u001b[33mBuildingMOTIF does not exist, instantiating:\u001b[39m\u001b[33m\"\u001b[39m, e)\n\u001b[32m     59\u001b[39m \u001b[38;5;28mself\u001b[39m.bm = BuildingMOTIF(\u001b[33m\"\u001b[39m\u001b[33msqlite://\u001b[39m\u001b[33m\"\u001b[39m)\n\u001b[32m---> \u001b[39m\u001b[32m60\u001b[39m \u001b[38;5;28mself\u001b[39m.template_library = \u001b[43mLibrary\u001b[49m\u001b[43m.\u001b[49m\u001b[43mload\u001b[49m\u001b[43m(\u001b[49m\u001b[43mdirectory\u001b[49m\u001b[43m=\u001b[49m\u001b[38;5;28;43mstr\u001b[39;49m\u001b[43m(\u001b[49m\u001b[38;5;28;43mself\u001b[39;49m\u001b[43m.\u001b[49m\u001b[43mtemplate_dir\u001b[49m\u001b[43m)\u001b[49m\u001b[43m)\u001b[49m\n",
      "\u001b[36mFile \u001b[39m\u001b[32m~/Desktop/223p/experiments/simbuild-semantic-25/.venv/lib/python3.11/site-packages/buildingmotif/dataclasses/library.py:145\u001b[39m, in \u001b[36mLibrary.load\u001b[39m\u001b[34m(cls, db_id, ontology_graph, directory, name, overwrite, infer_templates, run_shacl_inference)\u001b[39m\n\u001b[32m    143\u001b[39m     \u001b[38;5;28;01mif\u001b[39;00m \u001b[38;5;129;01mnot\u001b[39;00m src.exists():\n\u001b[32m    144\u001b[39m         \u001b[38;5;28;01mraise\u001b[39;00m \u001b[38;5;167;01mException\u001b[39;00m(\u001b[33mf\u001b[39m\u001b[33m\"\u001b[39m\u001b[33mDirectory \u001b[39m\u001b[38;5;132;01m{\u001b[39;00msrc\u001b[38;5;132;01m}\u001b[39;00m\u001b[33m does not exist\u001b[39m\u001b[33m\"\u001b[39m)\n\u001b[32m--> \u001b[39m\u001b[32m145\u001b[39m     \u001b[38;5;28;01mreturn\u001b[39;00m \u001b[38;5;28;43mcls\u001b[39;49m\u001b[43m.\u001b[49m\u001b[43m_load_from_directory\u001b[49m\u001b[43m(\u001b[49m\n\u001b[32m    146\u001b[39m \u001b[43m        \u001b[49m\u001b[43msrc\u001b[49m\u001b[43m,\u001b[49m\n\u001b[32m    147\u001b[39m \u001b[43m        \u001b[49m\u001b[43moverwrite\u001b[49m\u001b[43m=\u001b[49m\u001b[43moverwrite\u001b[49m\u001b[43m,\u001b[49m\n\u001b[32m    148\u001b[39m \u001b[43m        \u001b[49m\u001b[43minfer_templates\u001b[49m\u001b[43m=\u001b[49m\u001b[43minfer_templates\u001b[49m\u001b[43m,\u001b[49m\n\u001b[32m    149\u001b[39m \u001b[43m        \u001b[49m\u001b[43mrun_shacl_inference\u001b[49m\u001b[43m=\u001b[49m\u001b[43mrun_shacl_inference\u001b[49m\u001b[43m,\u001b[49m\n\u001b[32m    150\u001b[39m \u001b[43m    \u001b[49m\u001b[43m)\u001b[49m\n\u001b[32m    151\u001b[39m \u001b[38;5;28;01melif\u001b[39;00m name \u001b[38;5;129;01mis\u001b[39;00m \u001b[38;5;129;01mnot\u001b[39;00m \u001b[38;5;28;01mNone\u001b[39;00m:\n\u001b[32m    152\u001b[39m     bm = get_building_motif()\n",
      "\u001b[36mFile \u001b[39m\u001b[32m~/Desktop/223p/experiments/simbuild-semantic-25/.venv/lib/python3.11/site-packages/buildingmotif/dataclasses/library.py:311\u001b[39m, in \u001b[36mLibrary._load_from_directory\u001b[39m\u001b[34m(cls, directory, overwrite, infer_templates, run_shacl_inference)\u001b[39m\n\u001b[32m    309\u001b[39m     \u001b[38;5;28;01mif\u001b[39;00m \u001b[33m\"\u001b[39m\u001b[33m.ipynb_checkpoints\u001b[39m\u001b[33m\"\u001b[39m \u001b[38;5;129;01min\u001b[39;00m file.parts:\n\u001b[32m    310\u001b[39m         \u001b[38;5;28;01mcontinue\u001b[39;00m\n\u001b[32m--> \u001b[39m\u001b[32m311\u001b[39m     \u001b[43mlib\u001b[49m\u001b[43m.\u001b[49m\u001b[43m_read_yml_file\u001b[49m\u001b[43m(\u001b[49m\u001b[43mfile\u001b[49m\u001b[43m)\u001b[49m\n\u001b[32m    312\u001b[39m \u001b[38;5;66;03m# load shape collections from all ontology files in the directory\u001b[39;00m\n\u001b[32m    313\u001b[39m lib._load_shapes_from_directory(directory)\n",
      "\u001b[36mFile \u001b[39m\u001b[32m~/Desktop/223p/experiments/simbuild-semantic-25/.venv/lib/python3.11/site-packages/buildingmotif/dataclasses/library.py:348\u001b[39m, in \u001b[36mLibrary._read_yml_file\u001b[39m\u001b[34m(self, file)\u001b[39m\n\u001b[32m    346\u001b[39m \u001b[38;5;250m\u001b[39m\u001b[33;03m\"\"\"Read a YML file into this library. Utility function for `_load_from_directory`.\"\"\"\u001b[39;00m\n\u001b[32m    347\u001b[39m contents = yaml.load(\u001b[38;5;28mopen\u001b[39m(file, \u001b[33m\"\u001b[39m\u001b[33mr\u001b[39m\u001b[33m\"\u001b[39m), Loader=yaml.FullLoader)\n\u001b[32m--> \u001b[39m\u001b[32m348\u001b[39m \u001b[38;5;28;01mfor\u001b[39;00m templ_name, templ_spec \u001b[38;5;129;01min\u001b[39;00m \u001b[43mcontents\u001b[49m\u001b[43m.\u001b[49m\u001b[43mitems\u001b[49m():\n\u001b[32m    349\u001b[39m     \u001b[38;5;66;03m# compile the template body using its rules\u001b[39;00m\n\u001b[32m    350\u001b[39m     templ_spec = compile_template_spec(templ_spec)\n\u001b[32m    351\u001b[39m     \u001b[38;5;66;03m# input name of template\u001b[39;00m\n",
      "\u001b[31mAttributeError\u001b[39m: 'NoneType' object has no attribute 'items'"
     ]
    }
   ],
   "source": [
    "handler = SHACLHandler(ontology=ontology, template_dir = '/Users/lazlopaul/Desktop/223p/experiments/simbuild-semantic-25/templates')\n",
    "\n",
    "# Generate shapes\n",
    "handler.generate_shapes()\n",
    "\n",
    "# Save shapes\n",
    "handler.save_shapes(f'{base_path}/shapes.ttl')\n",
    "# also save more human readable shapes\n",
    "inline_shapes(handler.shapes_graph).serialize(f\"{base_path}/inlined_shapes.ttl\")\n"
   ]
  },
  {
   "cell_type": "code",
   "execution_count": null,
   "id": "f7413e5c",
   "metadata": {},
   "outputs": [],
   "source": []
  },
  {
   "cell_type": "code",
   "execution_count": null,
   "id": "de5a2f3d",
   "metadata": {},
   "outputs": [],
   "source": []
  }
 ],
 "metadata": {
  "kernelspec": {
   "display_name": "simbuild-semantic-25",
   "language": "python",
   "name": "python3"
  },
  "language_info": {
   "codemirror_mode": {
    "name": "ipython",
    "version": 3
   },
   "file_extension": ".py",
   "mimetype": "text/x-python",
   "name": "python",
   "nbconvert_exporter": "python",
   "pygments_lexer": "ipython3",
   "version": "3.11.11"
  }
 },
 "nbformat": 4,
 "nbformat_minor": 5
}
