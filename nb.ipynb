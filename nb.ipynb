{
 "cells": [
  {
   "cell_type": "code",
   "execution_count": null,
   "id": "778345ca",
   "metadata": {},
   "outputs": [
    {
     "name": "stderr",
     "output_type": "stream",
     "text": [
      "CRITICAL:root:Install the 'bacnet-ingress' module, e.g. 'pip install buildingmotif[bacnet-ingress]'\n"
     ]
    }
   ],
   "source": [
    "from semantic_mpc_interface import (\n",
    "    LoadModel,\n",
    "    get_thermostat_data,\n",
    "    HPFlexSurvey,\n",
    "    convert_units,\n",
    "    SHACLHandler,\n",
    "    inline_shapes,\n",
    "    Graph\n",
    ")\n",
    "from semantic_mpc_interface.utils import query_to_df\n",
    "from semantic_mpc_interface.namespaces import BRICK, RDF, S223, A, HPFS\n",
    "from rdflib import URIRef\n",
    "from buildingmotif import BuildingMOTIF\n",
    "from buildingmotif.dataclasses import Library\n",
    "import csv\n",
    "from pyshacl.rdfutil import clone\n",
    "\n",
    "# SELECT ONTOLOGY \n",
    "ontology = 'brick'\n",
    "# base path\n",
    "base_path = f'{ontology}'"
   ]
  },
  {
   "cell_type": "code",
   "execution_count": 19,
   "id": "c6398188",
   "metadata": {},
   "outputs": [],
   "source": [
    "# Please disregard excessive outputs (logging and warnings) from bmotif\n",
    "import logging\n",
    "logging.disable(logging.CRITICAL)\n",
    "import warnings\n",
    "warnings.filterwarnings(\"ignore\")"
   ]
  },
  {
   "cell_type": "markdown",
   "id": "e3dc4fc2",
   "metadata": {},
   "source": [
    "Generating shapes \"mints\" our templates into an ontology \n",
    "\n",
    "The templates describe how certain things should be semantically represented in our graph. \n",
    "We can fill the templates to create these semantic representations.\n",
    "However, using the SHACLHandler we can use the rules of the s223 or brick ontologies to invert the templates, and instead create validation rules looking for things represented like our templates.\n",
    "\n",
    "The templates will be added as classes to a shacl graph, currently using the namespace HPFS (urn:hpflex/shapes), and we will infer what things in the graph match our templates. "
   ]
  },
  {
   "cell_type": "code",
   "execution_count": null,
   "id": "acf9e0e3",
   "metadata": {},
   "outputs": [
    {
     "name": "stdout",
     "output_type": "stream",
     "text": [
      "BuildingMOTIF does not exist, instantiating: \n"
     ]
    },
    {
     "data": {
      "text/plain": [
       "<Graph identifier=N02dbc9ad90b34a85b76bdf653c439173 (<class 'rdflib.graph.Graph'>)>"
      ]
     },
     "execution_count": 3,
     "metadata": {},
     "output_type": "execute_result"
    }
   ],
   "source": [
    "handler = SHACLHandler(ontology=ontology, template_dir = '/Users/lazlopaul/Desktop/223p/experiments/simbuild-semantic-25/templates')\n",
    "# Generate shapes\n",
    "handler.generate_shapes()\n",
    "# Save shapes\n",
    "handler.save_shapes(f'{base_path}/shapes.ttl')\n",
    "# also save more human readable shapes\n",
    "inline_shapes(handler.shapes_graph).serialize(f\"{base_path}/inlined_shapes.ttl\")\n"
   ]
  },
  {
   "cell_type": "code",
   "execution_count": 4,
   "id": "f7413e5c",
   "metadata": {},
   "outputs": [],
   "source": [
    "g = Graph()\n",
    "g.parse('post-processed-model.ttl', format = 'ttl')\n",
    "og = clone.clone_graph(g)\n",
    "inferred_graph = handler.infer(g)"
   ]
  },
  {
   "cell_type": "markdown",
   "id": "6965fc83",
   "metadata": {},
   "source": [
    "Here we can see that many classes have been inferred based on our templates. \n",
    "All the zone temperatures will be labeled with the class HPFS:temp. Same for our zone temperatures.\n",
    "\n",
    "We also infer some basic information, such as has-point. The semantic_model_builder currently uses these templates as the interface between the HPFS ontology and another ontology (i.e. brick or S223). This was done as an experimental approach for ontology alignment, but means that we must create some boilerplate templates to load data into objects."
   ]
  },
  {
   "cell_type": "code",
   "execution_count": 29,
   "id": "29d50a76",
   "metadata": {},
   "outputs": [
    {
     "name": "stdout",
     "output_type": "stream",
     "text": [
      "(rdflib.term.URIRef('https://BESTESTAir.urn#hvac_reaZonCor_TZon'), rdflib.term.URIRef('http://www.w3.org/1999/02/22-rdf-syntax-ns#type'), rdflib.term.URIRef('urn:hpflex/shapes#temp'))\n",
      "(rdflib.term.URIRef('https://BESTESTAir.urn#hvac_oveZonSupNor_TZonHeaSet'), rdflib.term.URIRef('http://www.w3.org/1999/02/22-rdf-syntax-ns#type'), rdflib.term.URIRef('urn:hpflex/shapes#heaset'))\n",
      "(rdflib.term.URIRef('https://BESTESTAir.urn#hvac_oveZonSupEas_TZonCooSet'), rdflib.term.URIRef('http://www.w3.org/1999/02/22-rdf-syntax-ns#type'), rdflib.term.URIRef('urn:hpflex/shapes#cooset'))\n",
      "(rdflib.term.URIRef('https://BESTESTAir.urn#hvac_oveZonSupEas_TZonHeaSet'), rdflib.term.URIRef('http://www.w3.org/1999/02/22-rdf-syntax-ns#type'), rdflib.term.URIRef('urn:hpflex/shapes#heaset'))\n",
      "(rdflib.term.URIRef('https://BESTESTAir.urn#hvac_reaZonSou_TZon'), rdflib.term.URIRef('http://www.w3.org/1999/02/22-rdf-syntax-ns#type'), rdflib.term.URIRef('urn:hpflex/shapes#temp'))\n",
      "(rdflib.term.URIRef('https://BESTESTAir.urn#flo_Nor'), rdflib.term.URIRef('http://www.w3.org/1999/02/22-rdf-syntax-ns#type'), rdflib.term.URIRef('urn:hpflex/shapes#zone'))\n",
      "(rdflib.term.URIRef('https://BESTESTAir.urn#hvac_oveZonSupCor_TZonCooSet'), rdflib.term.URIRef('http://www.w3.org/1999/02/22-rdf-syntax-ns#type'), rdflib.term.URIRef('urn:hpflex/shapes#cooset'))\n",
      "(rdflib.term.URIRef('https://BESTESTAir.urn#flo_Eas'), rdflib.term.URIRef('http://www.w3.org/1999/02/22-rdf-syntax-ns#type'), rdflib.term.URIRef('urn:hpflex/shapes#zone'))\n",
      "(rdflib.term.URIRef('https://BESTESTAir.urn#hvac_reaZonNor_TZon'), rdflib.term.URIRef('http://www.w3.org/1999/02/22-rdf-syntax-ns#type'), rdflib.term.URIRef('urn:hpflex/shapes#temp'))\n",
      "(rdflib.term.URIRef('https://BESTESTAir.urn#flo_Wes'), rdflib.term.URIRef('http://www.w3.org/1999/02/22-rdf-syntax-ns#type'), rdflib.term.URIRef('urn:hpflex/shapes#zone'))\n",
      "(rdflib.term.URIRef('https://BESTESTAir.urn#hvac_reaZonWes_TZon'), rdflib.term.URIRef('http://www.w3.org/1999/02/22-rdf-syntax-ns#type'), rdflib.term.URIRef('urn:hpflex/shapes#temp'))\n",
      "(rdflib.term.URIRef('https://BESTESTAir.urn#hvac_oveZonSupWes_TZonHeaSet'), rdflib.term.URIRef('http://www.w3.org/1999/02/22-rdf-syntax-ns#type'), rdflib.term.URIRef('urn:hpflex/shapes#heaset'))\n",
      "(rdflib.term.URIRef('https://BESTESTAir.urn#flo_Cor'), rdflib.term.URIRef('http://www.w3.org/1999/02/22-rdf-syntax-ns#type'), rdflib.term.URIRef('urn:hpflex/shapes#zone'))\n",
      "(rdflib.term.URIRef('https://BESTESTAir.urn#flo_Sou'), rdflib.term.URIRef('http://www.w3.org/1999/02/22-rdf-syntax-ns#type'), rdflib.term.URIRef('urn:hpflex/shapes#zone'))\n",
      "(rdflib.term.URIRef('https://BESTESTAir.urn#hvac_reaZonEas_TZon'), rdflib.term.URIRef('http://www.w3.org/1999/02/22-rdf-syntax-ns#type'), rdflib.term.URIRef('urn:hpflex/shapes#temp'))\n",
      "(rdflib.term.URIRef('https://BESTESTAir.urn#hvac_oveZonSupSou_TZonHeaSet'), rdflib.term.URIRef('http://www.w3.org/1999/02/22-rdf-syntax-ns#type'), rdflib.term.URIRef('urn:hpflex/shapes#heaset'))\n",
      "(rdflib.term.URIRef('https://BESTESTAir.urn#hvac_oveZonSupWes_TZonCooSet'), rdflib.term.URIRef('http://www.w3.org/1999/02/22-rdf-syntax-ns#type'), rdflib.term.URIRef('urn:hpflex/shapes#cooset'))\n",
      "(rdflib.term.URIRef('https://BESTESTAir.urn#hvac_oveZonSupNor_TZonCooSet'), rdflib.term.URIRef('http://www.w3.org/1999/02/22-rdf-syntax-ns#type'), rdflib.term.URIRef('urn:hpflex/shapes#cooset'))\n",
      "(rdflib.term.URIRef('https://BESTESTAir.urn#hvac_oveZonSupCor_TZonHeaSet'), rdflib.term.URIRef('http://www.w3.org/1999/02/22-rdf-syntax-ns#type'), rdflib.term.URIRef('urn:hpflex/shapes#heaset'))\n",
      "(rdflib.term.URIRef('https://BESTESTAir.urn#hvac_oveZonSupSou_TZonCooSet'), rdflib.term.URIRef('http://www.w3.org/1999/02/22-rdf-syntax-ns#type'), rdflib.term.URIRef('urn:hpflex/shapes#cooset'))\n"
     ]
    }
   ],
   "source": [
    "for triple in (inferred_graph - og):\n",
    "    if ('Ref' in str(triple[0])) or ('has-point' in str(triple[1])):\n",
    "        continue \n",
    "    else:\n",
    "        print(triple)"
   ]
  },
  {
   "cell_type": "code",
   "execution_count": 30,
   "id": "cb6212ad",
   "metadata": {},
   "outputs": [
    {
     "data": {
      "text/plain": [
       "[rdflib.term.URIRef('https://BESTESTAir.urn#hvac_oveZonSupNor_TZonHeaSet'),\n",
       " rdflib.term.URIRef('https://BESTESTAir.urn#hvac_oveZonSupEas_TZonHeaSet'),\n",
       " rdflib.term.URIRef('https://BESTESTAir.urn#hvac_oveZonSupWes_TZonHeaSet'),\n",
       " rdflib.term.URIRef('https://BESTESTAir.urn#hvac_oveZonSupSou_TZonHeaSet'),\n",
       " rdflib.term.URIRef('https://BESTESTAir.urn#hvac_oveZonSupCor_TZonHeaSet')]"
      ]
     },
     "execution_count": 30,
     "metadata": {},
     "output_type": "execute_result"
    }
   ],
   "source": [
    "list(inferred_graph[:A:HPFS['heaset']])"
   ]
  },
  {
   "cell_type": "code",
   "execution_count": 32,
   "id": "542e1105",
   "metadata": {},
   "outputs": [
    {
     "data": {
      "text/plain": [
       "<Graph identifier=N9d026f64e0334d5f94c00c67b2c9fe39 (<class 'rdflib.graph.Graph'>)>"
      ]
     },
     "execution_count": 32,
     "metadata": {},
     "output_type": "execute_result"
    }
   ],
   "source": [
    "# Currently we load graphs from files for LoadModel, so must serialize this\n",
    "inferred_graph.serialize(f\"inferred_graph.ttl\")"
   ]
  },
  {
   "cell_type": "markdown",
   "id": "1b6885f1",
   "metadata": {},
   "source": [
    "LoadModel takes a filepath to a graph, a dictionary of mapping the objects you want to create, to the templates you want to create them with, the ontology used, and optionally a directory of templates.\n",
    "\n",
    "site_info will contain dictionary of our desired templates. Each template may contain some other entities or properties. Entities and properties will be named arbitrarily based on the name of their templates. Properties are defined so that the have a value (a number, string, or external reference) and a unit. \n",
    "\n",
    "We want to get python objects representing each of our zones, so we will create objects based on our zone templates. These zone templates link to 3 properties for the temperature and setpoints. Each of these properties will have a value that points to the BOPTest external reference, and they will have a unit. NOTE: the units are currently incorrectly using the qudt namespace, rather than the unit namespace"
   ]
  },
  {
   "cell_type": "code",
   "execution_count": 33,
   "id": "314161e9",
   "metadata": {},
   "outputs": [],
   "source": [
    "loader = LoadModel(f\"inferred_graph.ttl\", \n",
    "                   template_dict={'zones': 'zone'}, \n",
    "                   ontology = ontology,\n",
    "                   template_dir = 'templates')\n",
    "site_info = loader.get_all_building_objects()"
   ]
  },
  {
   "cell_type": "code",
   "execution_count": 34,
   "id": "4ef65f2b",
   "metadata": {},
   "outputs": [
    {
     "data": {
      "text/plain": [
       "{'zones': [zone(name='https://BESTESTAir.urn#flo_Wes', temp=Value(value=hvac_reaZonWes_TZon_y , unit='http://qudt.org/schema/qudt/K'), heaset=Value(value=hvac_oveZonSupWes_TZonHeaSet_u, unit='http://qudt.org/schema/qudt/K'), cooset=Value(value=hvac_oveZonSupWes_TZonCooSet_u, unit='http://qudt.org/schema/qudt/K'), ),\n",
       "  zone(name='https://BESTESTAir.urn#flo_Sou', temp=Value(value=hvac_reaZonSou_TZon_y , unit='http://qudt.org/schema/qudt/K'), heaset=Value(value=hvac_oveZonSupSou_TZonHeaSet_u, unit='http://qudt.org/schema/qudt/K'), cooset=Value(value=hvac_oveZonSupSou_TZonCooSet_u, unit='http://qudt.org/schema/qudt/K'), ),\n",
       "  zone(name='https://BESTESTAir.urn#flo_Nor', temp=Value(value=hvac_reaZonNor_TZon_y , unit='http://qudt.org/schema/qudt/K'), heaset=Value(value=hvac_oveZonSupNor_TZonHeaSet_u, unit='http://qudt.org/schema/qudt/K'), cooset=Value(value=hvac_oveZonSupNor_TZonCooSet_u, unit='http://qudt.org/schema/qudt/K'), ),\n",
       "  zone(name='https://BESTESTAir.urn#flo_Eas', temp=Value(value=hvac_reaZonEas_TZon_y , unit='http://qudt.org/schema/qudt/K'), heaset=Value(value=hvac_oveZonSupEas_TZonHeaSet_u, unit='http://qudt.org/schema/qudt/K'), cooset=Value(value=hvac_oveZonSupEas_TZonCooSet_u, unit='http://qudt.org/schema/qudt/K'), ),\n",
       "  zone(name='https://BESTESTAir.urn#flo_Cor', temp=Value(value=hvac_reaZonCor_TZon_y , unit='http://qudt.org/schema/qudt/K'), heaset=Value(value=hvac_oveZonSupCor_TZonHeaSet_u, unit='http://qudt.org/schema/qudt/K'), cooset=Value(value=hvac_oveZonSupCor_TZonCooSet_u, unit='http://qudt.org/schema/qudt/K'), )]}"
      ]
     },
     "execution_count": 34,
     "metadata": {},
     "output_type": "execute_result"
    }
   ],
   "source": [
    "site_info"
   ]
  },
  {
   "cell_type": "code",
   "execution_count": 35,
   "id": "3394b61b",
   "metadata": {},
   "outputs": [
    {
     "data": {
      "text/plain": [
       "[zone(name='https://BESTESTAir.urn#flo_Wes', temp=Value(value=hvac_reaZonWes_TZon_y , unit='http://qudt.org/schema/qudt/K'), heaset=Value(value=hvac_oveZonSupWes_TZonHeaSet_u, unit='http://qudt.org/schema/qudt/K'), cooset=Value(value=hvac_oveZonSupWes_TZonCooSet_u, unit='http://qudt.org/schema/qudt/K'), ),\n",
       " zone(name='https://BESTESTAir.urn#flo_Sou', temp=Value(value=hvac_reaZonSou_TZon_y , unit='http://qudt.org/schema/qudt/K'), heaset=Value(value=hvac_oveZonSupSou_TZonHeaSet_u, unit='http://qudt.org/schema/qudt/K'), cooset=Value(value=hvac_oveZonSupSou_TZonCooSet_u, unit='http://qudt.org/schema/qudt/K'), ),\n",
       " zone(name='https://BESTESTAir.urn#flo_Nor', temp=Value(value=hvac_reaZonNor_TZon_y , unit='http://qudt.org/schema/qudt/K'), heaset=Value(value=hvac_oveZonSupNor_TZonHeaSet_u, unit='http://qudt.org/schema/qudt/K'), cooset=Value(value=hvac_oveZonSupNor_TZonCooSet_u, unit='http://qudt.org/schema/qudt/K'), ),\n",
       " zone(name='https://BESTESTAir.urn#flo_Eas', temp=Value(value=hvac_reaZonEas_TZon_y , unit='http://qudt.org/schema/qudt/K'), heaset=Value(value=hvac_oveZonSupEas_TZonHeaSet_u, unit='http://qudt.org/schema/qudt/K'), cooset=Value(value=hvac_oveZonSupEas_TZonCooSet_u, unit='http://qudt.org/schema/qudt/K'), ),\n",
       " zone(name='https://BESTESTAir.urn#flo_Cor', temp=Value(value=hvac_reaZonCor_TZon_y , unit='http://qudt.org/schema/qudt/K'), heaset=Value(value=hvac_oveZonSupCor_TZonHeaSet_u, unit='http://qudt.org/schema/qudt/K'), cooset=Value(value=hvac_oveZonSupCor_TZonCooSet_u, unit='http://qudt.org/schema/qudt/K'), )]"
      ]
     },
     "execution_count": 35,
     "metadata": {},
     "output_type": "execute_result"
    }
   ],
   "source": [
    "site_info['zones']"
   ]
  },
  {
   "cell_type": "code",
   "execution_count": 36,
   "id": "8f51a30b",
   "metadata": {},
   "outputs": [
    {
     "name": "stdout",
     "output_type": "stream",
     "text": [
      "ZONE NAME IS:  https://BESTESTAir.urn#flo_Wes\n",
      "TEMP IS:  Value(value=hvac_reaZonWes_TZon_y , unit='http://qudt.org/schema/qudt/K')\n",
      "TEMP DATA IS AT EXTERNAL REFERENCE:  hvac_reaZonWes_TZon_y \n",
      "HEATING SETPOINT IS:  Value(value=hvac_oveZonSupWes_TZonHeaSet_u, unit='http://qudt.org/schema/qudt/K')\n",
      "COOLING SEPTIONT IS:  Value(value=hvac_oveZonSupWes_TZonCooSet_u, unit='http://qudt.org/schema/qudt/K')\n",
      "Setpoint DATA is at External References:  hvac_oveZonSupWes_TZonHeaSet_u ,  hvac_oveZonSupWes_TZonCooSet_u\n",
      "--------------------\n",
      "ZONE NAME IS:  https://BESTESTAir.urn#flo_Sou\n",
      "TEMP IS:  Value(value=hvac_reaZonSou_TZon_y , unit='http://qudt.org/schema/qudt/K')\n",
      "TEMP DATA IS AT EXTERNAL REFERENCE:  hvac_reaZonSou_TZon_y \n",
      "HEATING SETPOINT IS:  Value(value=hvac_oveZonSupSou_TZonHeaSet_u, unit='http://qudt.org/schema/qudt/K')\n",
      "COOLING SEPTIONT IS:  Value(value=hvac_oveZonSupSou_TZonCooSet_u, unit='http://qudt.org/schema/qudt/K')\n",
      "Setpoint DATA is at External References:  hvac_oveZonSupSou_TZonHeaSet_u ,  hvac_oveZonSupSou_TZonCooSet_u\n",
      "--------------------\n",
      "ZONE NAME IS:  https://BESTESTAir.urn#flo_Nor\n",
      "TEMP IS:  Value(value=hvac_reaZonNor_TZon_y , unit='http://qudt.org/schema/qudt/K')\n",
      "TEMP DATA IS AT EXTERNAL REFERENCE:  hvac_reaZonNor_TZon_y \n",
      "HEATING SETPOINT IS:  Value(value=hvac_oveZonSupNor_TZonHeaSet_u, unit='http://qudt.org/schema/qudt/K')\n",
      "COOLING SEPTIONT IS:  Value(value=hvac_oveZonSupNor_TZonCooSet_u, unit='http://qudt.org/schema/qudt/K')\n",
      "Setpoint DATA is at External References:  hvac_oveZonSupNor_TZonHeaSet_u ,  hvac_oveZonSupNor_TZonCooSet_u\n",
      "--------------------\n",
      "ZONE NAME IS:  https://BESTESTAir.urn#flo_Eas\n",
      "TEMP IS:  Value(value=hvac_reaZonEas_TZon_y , unit='http://qudt.org/schema/qudt/K')\n",
      "TEMP DATA IS AT EXTERNAL REFERENCE:  hvac_reaZonEas_TZon_y \n",
      "HEATING SETPOINT IS:  Value(value=hvac_oveZonSupEas_TZonHeaSet_u, unit='http://qudt.org/schema/qudt/K')\n",
      "COOLING SEPTIONT IS:  Value(value=hvac_oveZonSupEas_TZonCooSet_u, unit='http://qudt.org/schema/qudt/K')\n",
      "Setpoint DATA is at External References:  hvac_oveZonSupEas_TZonHeaSet_u ,  hvac_oveZonSupEas_TZonCooSet_u\n",
      "--------------------\n",
      "ZONE NAME IS:  https://BESTESTAir.urn#flo_Cor\n",
      "TEMP IS:  Value(value=hvac_reaZonCor_TZon_y , unit='http://qudt.org/schema/qudt/K')\n",
      "TEMP DATA IS AT EXTERNAL REFERENCE:  hvac_reaZonCor_TZon_y \n",
      "HEATING SETPOINT IS:  Value(value=hvac_oveZonSupCor_TZonHeaSet_u, unit='http://qudt.org/schema/qudt/K')\n",
      "COOLING SEPTIONT IS:  Value(value=hvac_oveZonSupCor_TZonCooSet_u, unit='http://qudt.org/schema/qudt/K')\n",
      "Setpoint DATA is at External References:  hvac_oveZonSupCor_TZonHeaSet_u ,  hvac_oveZonSupCor_TZonCooSet_u\n",
      "--------------------\n"
     ]
    }
   ],
   "source": [
    "for zone in site_info['zones']:\n",
    "    print(\"ZONE NAME IS: \", zone.name)\n",
    "    print(\"TEMP IS: \", zone.temp)\n",
    "    print(\"TEMP DATA IS AT EXTERNAL REFERENCE: \", zone.temp.value)\n",
    "    print(\"HEATING SETPOINT IS: \", zone.heaset)\n",
    "    print(\"COOLING SEPTIONT IS: \", zone.cooset)\n",
    "    print(\"Setpoint DATA is at External References: \", zone.heaset.value,', ', zone.cooset.value)\n",
    "    print('-'* 20)"
   ]
  },
  {
   "cell_type": "code",
   "execution_count": null,
   "id": "c19857a5",
   "metadata": {},
   "outputs": [],
   "source": [
    "\n"
   ]
  }
 ],
 "metadata": {
  "kernelspec": {
   "display_name": "simbuild-semantic-25",
   "language": "python",
   "name": "python3"
  },
  "language_info": {
   "codemirror_mode": {
    "name": "ipython",
    "version": 3
   },
   "file_extension": ".py",
   "mimetype": "text/x-python",
   "name": "python",
   "nbconvert_exporter": "python",
   "pygments_lexer": "ipython3",
   "version": "3.11.11"
  }
 },
 "nbformat": 4,
 "nbformat_minor": 5
}
