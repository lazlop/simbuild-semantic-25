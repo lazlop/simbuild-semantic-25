{
 "cells": [
  {
   "cell_type": "code",
   "execution_count": 1,
   "id": "778345ca",
   "metadata": {},
   "outputs": [
    {
     "name": "stderr",
     "output_type": "stream",
     "text": [
      "CRITICAL:root:Install the 'bacnet-ingress' module, e.g. 'pip install buildingmotif[bacnet-ingress]'\n"
     ]
    }
   ],
   "source": [
    "from semantic_mpc_interface import (\n",
    "    LoadModel,\n",
    "    get_thermostat_data,\n",
    "    HPFlexSurvey,\n",
    "    convert_units,\n",
    "    SHACLHandler,\n",
    "    inline_shapes,\n",
    "    Graph,\n",
    "    get_uri_name\n",
    ")\n",
    "from semantic_mpc_interface.utils import query_to_df\n",
    "from semantic_mpc_interface.namespaces import BRICK, RDF, S223, A, HPFS\n",
    "from rdflib import URIRef\n",
    "from buildingmotif import BuildingMOTIF, get_building_motif\n",
    "from buildingmotif.dataclasses import Library\n",
    "import csv\n",
    "from pyshacl.rdfutil import clone\n",
    "# SELECT ONTOLOGY \n",
    "ontology = 'brick'\n",
    "# base path\n",
    "base_path = f'{ontology}'"
   ]
  },
  {
   "cell_type": "code",
   "execution_count": 2,
   "id": "c6398188",
   "metadata": {},
   "outputs": [],
   "source": [
    "# Please disregard excessive outputs (logging and warnings) from bmotif\n",
    "import logging\n",
    "logging.disable(logging.CRITICAL)\n",
    "import warnings\n",
    "warnings.filterwarnings(\"ignore\")"
   ]
  },
  {
   "cell_type": "markdown",
   "id": "e3dc4fc2",
   "metadata": {},
   "source": [
    "Generating shapes \"mints\" our templates into an ontology \n",
    "\n",
    "The templates describe how certain things should be semantically represented in our graph. \n",
    "We can fill the templates to create these semantic representations.\n",
    "However, using the SHACLHandler we can use the rules of the s223 or brick ontologies to invert the templates, and instead create validation rules looking for things represented like our templates.\n",
    "\n",
    "The templates will be added as classes to a shacl graph, currently using the namespace HPFS (urn:hpflex/shapes), and we will infer what things in the graph match our templates. "
   ]
  },
  {
   "cell_type": "code",
   "execution_count": 3,
   "id": "acf9e0e3",
   "metadata": {},
   "outputs": [
    {
     "name": "stdout",
     "output_type": "stream",
     "text": [
      "BuildingMOTIF does not exist, instantiating: \n"
     ]
    },
    {
     "data": {
      "text/plain": [
       "<Graph identifier=N2a762233ecd4435287f6aa0b1207dc66 (<class 'rdflib.graph.Graph'>)>"
      ]
     },
     "execution_count": 3,
     "metadata": {},
     "output_type": "execute_result"
    }
   ],
   "source": [
    "handler = SHACLHandler(ontology=ontology, template_dir = '/Users/lazlopaul/Desktop/223p/experiments/simbuild-semantic-25/templates')\n",
    "# Generate shapes\n",
    "handler.generate_shapes()\n",
    "# Save shapes\n",
    "handler.save_shapes(f'{base_path}/shapes.ttl')\n",
    "# also save more human readable shapes\n",
    "inline_shapes(handler.shapes_graph).serialize(f\"{base_path}/inlined_shapes.ttl\")\n"
   ]
  },
  {
   "cell_type": "code",
   "execution_count": 4,
   "id": "f7413e5c",
   "metadata": {},
   "outputs": [
    {
     "data": {
      "text/plain": [
       "<Graph identifier=N8edf0e751ee74f1faea6283595c8bbff (<class 'rdflib.graph.Graph'>)>"
      ]
     },
     "execution_count": 4,
     "metadata": {},
     "output_type": "execute_result"
    }
   ],
   "source": [
    "g = Graph()\n",
    "g.parse('post-processed-model.ttl', format = 'ttl')\n",
    "og = clone.clone_graph(g)\n",
    "# run if creating new inferred graph, take ~10 seconds\n",
    "# inferred_graph = handler.infer(g)\n",
    "inferred_graph = Graph()\n",
    "inferred_graph.parse('inferred_graph.ttl', format = 'ttl')"
   ]
  },
  {
   "cell_type": "markdown",
   "id": "6965fc83",
   "metadata": {},
   "source": [
    "Here we can see that many classes have been inferred based on our templates. \n",
    "All the zone temperatures will be labeled with the class HPFS:temp. Same for our zone temperatures.\n",
    "\n",
    "We also infer some basic information, such as has-point. The semantic_model_builder currently uses these templates as the interface between the HPFS ontology and another ontology (i.e. brick or S223). This was done as an experimental approach for ontology alignment, but means that we must create some boilerplate templates to load data into objects."
   ]
  },
  {
   "cell_type": "code",
   "execution_count": 5,
   "id": "29d50a76",
   "metadata": {},
   "outputs": [
    {
     "name": "stdout",
     "output_type": "stream",
     "text": [
      "(rdflib.term.URIRef('https://BESTESTAir.urn#hvac_oveZonSupCor_TZonCooSet'), rdflib.term.URIRef('http://www.w3.org/1999/02/22-rdf-syntax-ns#type'), rdflib.term.URIRef('urn:hpflex/shapes#cooset'))\n",
      "(rdflib.term.URIRef('https://BESTESTAir.urn#hvac_oveZonSupNor_TZonCooSet'), rdflib.term.URIRef('http://www.w3.org/1999/02/22-rdf-syntax-ns#type'), rdflib.term.URIRef('urn:hpflex/shapes#cooset'))\n",
      "(rdflib.term.URIRef('https://BESTESTAir.urn#flo_Sou'), rdflib.term.URIRef('http://www.w3.org/1999/02/22-rdf-syntax-ns#type'), rdflib.term.URIRef('urn:hpflex/shapes#zone'))\n",
      "(rdflib.term.URIRef('https://BESTESTAir.urn#hvac_reaZonEas_TZon'), rdflib.term.URIRef('http://www.w3.org/1999/02/22-rdf-syntax-ns#type'), rdflib.term.URIRef('urn:hpflex/shapes#temp'))\n",
      "(rdflib.term.URIRef('https://BESTESTAir.urn#hvac_reaZonNor_TZon'), rdflib.term.URIRef('http://www.w3.org/1999/02/22-rdf-syntax-ns#type'), rdflib.term.URIRef('urn:hpflex/shapes#temp'))\n",
      "(rdflib.term.URIRef('https://BESTESTAir.urn#hvac_reaZonSou_TZon'), rdflib.term.URIRef('http://www.w3.org/1999/02/22-rdf-syntax-ns#type'), rdflib.term.URIRef('urn:hpflex/shapes#temp'))\n",
      "(rdflib.term.URIRef('https://BESTESTAir.urn#hvac_reaZonCor_TZon'), rdflib.term.URIRef('http://www.w3.org/1999/02/22-rdf-syntax-ns#type'), rdflib.term.URIRef('urn:hpflex/shapes#temp'))\n",
      "(rdflib.term.URIRef('https://BESTESTAir.urn#hvac_oveZonSupWes_TZonCooSet'), rdflib.term.URIRef('http://www.w3.org/1999/02/22-rdf-syntax-ns#type'), rdflib.term.URIRef('urn:hpflex/shapes#cooset'))\n",
      "(rdflib.term.URIRef('https://BESTESTAir.urn#hvac_oveZonSupEas_TZonCooSet'), rdflib.term.URIRef('http://www.w3.org/1999/02/22-rdf-syntax-ns#type'), rdflib.term.URIRef('urn:hpflex/shapes#cooset'))\n",
      "(rdflib.term.URIRef('https://BESTESTAir.urn#hvac_oveZonSupEas_TZonHeaSet'), rdflib.term.URIRef('http://www.w3.org/1999/02/22-rdf-syntax-ns#type'), rdflib.term.URIRef('urn:hpflex/shapes#heaset'))\n",
      "(rdflib.term.URIRef('https://BESTESTAir.urn#hvac_oveZonSupSou_TZonCooSet'), rdflib.term.URIRef('http://www.w3.org/1999/02/22-rdf-syntax-ns#type'), rdflib.term.URIRef('urn:hpflex/shapes#cooset'))\n",
      "(rdflib.term.URIRef('https://BESTESTAir.urn#flo_Wes'), rdflib.term.URIRef('http://www.w3.org/1999/02/22-rdf-syntax-ns#type'), rdflib.term.URIRef('urn:hpflex/shapes#zone'))\n",
      "(rdflib.term.URIRef('https://BESTESTAir.urn#flo_Cor'), rdflib.term.URIRef('http://www.w3.org/1999/02/22-rdf-syntax-ns#type'), rdflib.term.URIRef('urn:hpflex/shapes#zone'))\n",
      "(rdflib.term.URIRef('https://BESTESTAir.urn#flo_Nor'), rdflib.term.URIRef('http://www.w3.org/1999/02/22-rdf-syntax-ns#type'), rdflib.term.URIRef('urn:hpflex/shapes#zone'))\n",
      "(rdflib.term.URIRef('https://BESTESTAir.urn#hvac_oveZonSupWes_TZonHeaSet'), rdflib.term.URIRef('http://www.w3.org/1999/02/22-rdf-syntax-ns#type'), rdflib.term.URIRef('urn:hpflex/shapes#heaset'))\n",
      "(rdflib.term.URIRef('https://BESTESTAir.urn#hvac_oveZonSupCor_TZonHeaSet'), rdflib.term.URIRef('http://www.w3.org/1999/02/22-rdf-syntax-ns#type'), rdflib.term.URIRef('urn:hpflex/shapes#heaset'))\n",
      "(rdflib.term.URIRef('https://BESTESTAir.urn#flo_Eas'), rdflib.term.URIRef('http://www.w3.org/1999/02/22-rdf-syntax-ns#type'), rdflib.term.URIRef('urn:hpflex/shapes#zone'))\n",
      "(rdflib.term.URIRef('https://BESTESTAir.urn#hvac_oveZonSupNor_TZonHeaSet'), rdflib.term.URIRef('http://www.w3.org/1999/02/22-rdf-syntax-ns#type'), rdflib.term.URIRef('urn:hpflex/shapes#heaset'))\n",
      "(rdflib.term.URIRef('https://BESTESTAir.urn#hvac_oveZonSupSou_TZonHeaSet'), rdflib.term.URIRef('http://www.w3.org/1999/02/22-rdf-syntax-ns#type'), rdflib.term.URIRef('urn:hpflex/shapes#heaset'))\n",
      "(rdflib.term.URIRef('https://BESTESTAir.urn#hvac_reaZonWes_TZon'), rdflib.term.URIRef('http://www.w3.org/1999/02/22-rdf-syntax-ns#type'), rdflib.term.URIRef('urn:hpflex/shapes#temp'))\n"
     ]
    }
   ],
   "source": [
    "for triple in (inferred_graph - og):\n",
    "    if ('Ref' in str(triple[0])) or ('has-point' in str(triple[1])):\n",
    "        continue \n",
    "    else:\n",
    "        print(triple)"
   ]
  },
  {
   "cell_type": "code",
   "execution_count": 6,
   "id": "cb6212ad",
   "metadata": {},
   "outputs": [
    {
     "data": {
      "text/plain": [
       "[rdflib.term.URIRef('https://BESTESTAir.urn#hvac_oveZonSupCor_TZonHeaSet'),\n",
       " rdflib.term.URIRef('https://BESTESTAir.urn#hvac_oveZonSupEas_TZonHeaSet'),\n",
       " rdflib.term.URIRef('https://BESTESTAir.urn#hvac_oveZonSupNor_TZonHeaSet'),\n",
       " rdflib.term.URIRef('https://BESTESTAir.urn#hvac_oveZonSupSou_TZonHeaSet'),\n",
       " rdflib.term.URIRef('https://BESTESTAir.urn#hvac_oveZonSupWes_TZonHeaSet')]"
      ]
     },
     "execution_count": 6,
     "metadata": {},
     "output_type": "execute_result"
    }
   ],
   "source": [
    "list(inferred_graph[:A:HPFS['heaset']])"
   ]
  },
  {
   "cell_type": "code",
   "execution_count": 7,
   "id": "542e1105",
   "metadata": {},
   "outputs": [
    {
     "data": {
      "text/plain": [
       "<Graph identifier=N8edf0e751ee74f1faea6283595c8bbff (<class 'rdflib.graph.Graph'>)>"
      ]
     },
     "execution_count": 7,
     "metadata": {},
     "output_type": "execute_result"
    }
   ],
   "source": [
    "# Currently we load graphs from files for LoadModel, so must serialize this\n",
    "inferred_graph.serialize(f\"inferred_graph.ttl\")"
   ]
  },
  {
   "cell_type": "markdown",
   "id": "1b6885f1",
   "metadata": {},
   "source": [
    "LoadModel takes a filepath to a graph, a dictionary of mapping the objects you want to create, to the templates you want to create them with, the ontology used, and optionally a directory of templates.\n",
    "\n",
    "site_info will contain dictionary of our desired templates. Each template may contain some other entities or properties. Entities and properties will be named arbitrarily based on the name of their templates. Properties are defined so that the have a value (a number, string, or external reference) and a unit. \n",
    "\n",
    "We want to get python objects representing each of our zones, so we will create objects based on our zone templates. These zone templates link to 3 properties for the temperature and setpoints. Each of these properties will have a value that points to the BOPTest external reference, and they will have a unit. NOTE: the units are currently incorrectly using the qudt namespace, rather than the unit namespace"
   ]
  },
  {
   "cell_type": "code",
   "execution_count": 8,
   "id": "314161e9",
   "metadata": {},
   "outputs": [],
   "source": [
    "loader = LoadModel(f\"inferred_graph.ttl\", \n",
    "                   template_dict={'zones': 'zone'}, \n",
    "                   ontology = ontology,\n",
    "                   template_dir = 'templates')\n",
    "site_info = loader.get_all_building_objects()"
   ]
  },
  {
   "cell_type": "code",
   "execution_count": 9,
   "id": "4ef65f2b",
   "metadata": {},
   "outputs": [
    {
     "data": {
      "text/plain": [
       "{'zones': [zone(name='https://BESTESTAir.urn#flo_Wes', heaset=Value(value=hvac_oveZonSupWes_TZonHeaSet_u, unit='http://qudt.org/schema/qudt/K'), cooset=Value(value=hvac_oveZonSupWes_TZonCooSet_u, unit='http://qudt.org/schema/qudt/K'), temp=Value(value=hvac_reaZonWes_TZon_y , unit='http://qudt.org/schema/qudt/K'), ),\n",
       "  zone(name='https://BESTESTAir.urn#flo_Sou', heaset=Value(value=hvac_oveZonSupSou_TZonHeaSet_u, unit='http://qudt.org/schema/qudt/K'), cooset=Value(value=hvac_oveZonSupSou_TZonCooSet_u, unit='http://qudt.org/schema/qudt/K'), temp=Value(value=hvac_reaZonSou_TZon_y , unit='http://qudt.org/schema/qudt/K'), ),\n",
       "  zone(name='https://BESTESTAir.urn#flo_Nor', heaset=Value(value=hvac_oveZonSupNor_TZonHeaSet_u, unit='http://qudt.org/schema/qudt/K'), cooset=Value(value=hvac_oveZonSupNor_TZonCooSet_u, unit='http://qudt.org/schema/qudt/K'), temp=Value(value=hvac_reaZonNor_TZon_y , unit='http://qudt.org/schema/qudt/K'), ),\n",
       "  zone(name='https://BESTESTAir.urn#flo_Eas', heaset=Value(value=hvac_oveZonSupEas_TZonHeaSet_u, unit='http://qudt.org/schema/qudt/K'), cooset=Value(value=hvac_oveZonSupEas_TZonCooSet_u, unit='http://qudt.org/schema/qudt/K'), temp=Value(value=hvac_reaZonEas_TZon_y , unit='http://qudt.org/schema/qudt/K'), ),\n",
       "  zone(name='https://BESTESTAir.urn#flo_Cor', heaset=Value(value=hvac_oveZonSupCor_TZonHeaSet_u, unit='http://qudt.org/schema/qudt/K'), cooset=Value(value=hvac_oveZonSupCor_TZonCooSet_u, unit='http://qudt.org/schema/qudt/K'), temp=Value(value=hvac_reaZonCor_TZon_y , unit='http://qudt.org/schema/qudt/K'), )]}"
      ]
     },
     "execution_count": 9,
     "metadata": {},
     "output_type": "execute_result"
    }
   ],
   "source": [
    "site_info"
   ]
  },
  {
   "cell_type": "code",
   "execution_count": 10,
   "id": "3394b61b",
   "metadata": {},
   "outputs": [
    {
     "data": {
      "text/plain": [
       "[zone(name='https://BESTESTAir.urn#flo_Wes', heaset=Value(value=hvac_oveZonSupWes_TZonHeaSet_u, unit='http://qudt.org/schema/qudt/K'), cooset=Value(value=hvac_oveZonSupWes_TZonCooSet_u, unit='http://qudt.org/schema/qudt/K'), temp=Value(value=hvac_reaZonWes_TZon_y , unit='http://qudt.org/schema/qudt/K'), ),\n",
       " zone(name='https://BESTESTAir.urn#flo_Sou', heaset=Value(value=hvac_oveZonSupSou_TZonHeaSet_u, unit='http://qudt.org/schema/qudt/K'), cooset=Value(value=hvac_oveZonSupSou_TZonCooSet_u, unit='http://qudt.org/schema/qudt/K'), temp=Value(value=hvac_reaZonSou_TZon_y , unit='http://qudt.org/schema/qudt/K'), ),\n",
       " zone(name='https://BESTESTAir.urn#flo_Nor', heaset=Value(value=hvac_oveZonSupNor_TZonHeaSet_u, unit='http://qudt.org/schema/qudt/K'), cooset=Value(value=hvac_oveZonSupNor_TZonCooSet_u, unit='http://qudt.org/schema/qudt/K'), temp=Value(value=hvac_reaZonNor_TZon_y , unit='http://qudt.org/schema/qudt/K'), ),\n",
       " zone(name='https://BESTESTAir.urn#flo_Eas', heaset=Value(value=hvac_oveZonSupEas_TZonHeaSet_u, unit='http://qudt.org/schema/qudt/K'), cooset=Value(value=hvac_oveZonSupEas_TZonCooSet_u, unit='http://qudt.org/schema/qudt/K'), temp=Value(value=hvac_reaZonEas_TZon_y , unit='http://qudt.org/schema/qudt/K'), ),\n",
       " zone(name='https://BESTESTAir.urn#flo_Cor', heaset=Value(value=hvac_oveZonSupCor_TZonHeaSet_u, unit='http://qudt.org/schema/qudt/K'), cooset=Value(value=hvac_oveZonSupCor_TZonCooSet_u, unit='http://qudt.org/schema/qudt/K'), temp=Value(value=hvac_reaZonCor_TZon_y , unit='http://qudt.org/schema/qudt/K'), )]"
      ]
     },
     "execution_count": 10,
     "metadata": {},
     "output_type": "execute_result"
    }
   ],
   "source": [
    "site_info['zones']"
   ]
  },
  {
   "cell_type": "code",
   "execution_count": 11,
   "id": "8f51a30b",
   "metadata": {},
   "outputs": [
    {
     "name": "stdout",
     "output_type": "stream",
     "text": [
      "ZONE NAME IS:  https://BESTESTAir.urn#flo_Wes\n",
      "TEMP IS:  Value(value=hvac_reaZonWes_TZon_y , unit='http://qudt.org/schema/qudt/K')\n",
      "TEMP DATA IS AT EXTERNAL REFERENCE:  hvac_reaZonWes_TZon_y \n",
      "HEATING SETPOINT IS:  Value(value=hvac_oveZonSupWes_TZonHeaSet_u, unit='http://qudt.org/schema/qudt/K')\n",
      "COOLING SEPTIONT IS:  Value(value=hvac_oveZonSupWes_TZonCooSet_u, unit='http://qudt.org/schema/qudt/K')\n",
      "Setpoint DATA is at External References:  hvac_oveZonSupWes_TZonHeaSet_u ,  hvac_oveZonSupWes_TZonCooSet_u\n",
      "--------------------\n",
      "ZONE NAME IS:  https://BESTESTAir.urn#flo_Sou\n",
      "TEMP IS:  Value(value=hvac_reaZonSou_TZon_y , unit='http://qudt.org/schema/qudt/K')\n",
      "TEMP DATA IS AT EXTERNAL REFERENCE:  hvac_reaZonSou_TZon_y \n",
      "HEATING SETPOINT IS:  Value(value=hvac_oveZonSupSou_TZonHeaSet_u, unit='http://qudt.org/schema/qudt/K')\n",
      "COOLING SEPTIONT IS:  Value(value=hvac_oveZonSupSou_TZonCooSet_u, unit='http://qudt.org/schema/qudt/K')\n",
      "Setpoint DATA is at External References:  hvac_oveZonSupSou_TZonHeaSet_u ,  hvac_oveZonSupSou_TZonCooSet_u\n",
      "--------------------\n",
      "ZONE NAME IS:  https://BESTESTAir.urn#flo_Nor\n",
      "TEMP IS:  Value(value=hvac_reaZonNor_TZon_y , unit='http://qudt.org/schema/qudt/K')\n",
      "TEMP DATA IS AT EXTERNAL REFERENCE:  hvac_reaZonNor_TZon_y \n",
      "HEATING SETPOINT IS:  Value(value=hvac_oveZonSupNor_TZonHeaSet_u, unit='http://qudt.org/schema/qudt/K')\n",
      "COOLING SEPTIONT IS:  Value(value=hvac_oveZonSupNor_TZonCooSet_u, unit='http://qudt.org/schema/qudt/K')\n",
      "Setpoint DATA is at External References:  hvac_oveZonSupNor_TZonHeaSet_u ,  hvac_oveZonSupNor_TZonCooSet_u\n",
      "--------------------\n",
      "ZONE NAME IS:  https://BESTESTAir.urn#flo_Eas\n",
      "TEMP IS:  Value(value=hvac_reaZonEas_TZon_y , unit='http://qudt.org/schema/qudt/K')\n",
      "TEMP DATA IS AT EXTERNAL REFERENCE:  hvac_reaZonEas_TZon_y \n",
      "HEATING SETPOINT IS:  Value(value=hvac_oveZonSupEas_TZonHeaSet_u, unit='http://qudt.org/schema/qudt/K')\n",
      "COOLING SEPTIONT IS:  Value(value=hvac_oveZonSupEas_TZonCooSet_u, unit='http://qudt.org/schema/qudt/K')\n",
      "Setpoint DATA is at External References:  hvac_oveZonSupEas_TZonHeaSet_u ,  hvac_oveZonSupEas_TZonCooSet_u\n",
      "--------------------\n",
      "ZONE NAME IS:  https://BESTESTAir.urn#flo_Cor\n",
      "TEMP IS:  Value(value=hvac_reaZonCor_TZon_y , unit='http://qudt.org/schema/qudt/K')\n",
      "TEMP DATA IS AT EXTERNAL REFERENCE:  hvac_reaZonCor_TZon_y \n",
      "HEATING SETPOINT IS:  Value(value=hvac_oveZonSupCor_TZonHeaSet_u, unit='http://qudt.org/schema/qudt/K')\n",
      "COOLING SEPTIONT IS:  Value(value=hvac_oveZonSupCor_TZonCooSet_u, unit='http://qudt.org/schema/qudt/K')\n",
      "Setpoint DATA is at External References:  hvac_oveZonSupCor_TZonHeaSet_u ,  hvac_oveZonSupCor_TZonCooSet_u\n",
      "--------------------\n"
     ]
    }
   ],
   "source": [
    "for zone in site_info['zones']:\n",
    "    print(\"ZONE NAME IS: \", zone.name)\n",
    "    print(\"TEMP IS: \", zone.temp)\n",
    "    print(\"TEMP DATA IS AT EXTERNAL REFERENCE: \", zone.temp.value)\n",
    "    print(\"HEATING SETPOINT IS: \", zone.heaset)\n",
    "    print(\"COOLING SEPTIONT IS: \", zone.cooset)\n",
    "    print(\"Setpoint DATA is at External References: \", zone.heaset.value,', ', zone.cooset.value)\n",
    "    print('-'* 20)"
   ]
  },
  {
   "cell_type": "markdown",
   "id": "5304ac8b",
   "metadata": {},
   "source": [
    "So, what goes into the CDL file? \n",
    "\n",
    "We have multiple options:\n",
    "\n",
    "    1) Expedient option: \n",
    "      Say what points should be used for each controller, referencing the \"minted ontology\" from your templates. Meaning, reference the shapes that are named like hpfs:temp, hpfs:heaset, hpfs:cooset. We are not worried about creating the s223 model of the controller \n",
    "   \n",
    "    2) Detailed option:\n",
    "      Create templates representing the controller. Reference these templates in the CDL. Instantiate the templates and match them to the properties in the model. We add the controller to our graph and line up inputs/outputs "
   ]
  },
  {
   "cell_type": "code",
   "execution_count": 12,
   "id": "10dbed2c",
   "metadata": {},
   "outputs": [],
   "source": [
    "# Opt 1: just say what points should map to each input/output\n",
    "# adding that the controller is for a zone template, so we would know what to query \n",
    "data = \"\"\"\n",
    "@prefix bldg: <https://BESTESTAir.urn#> .\n",
    "@prefix boptestrules: <https://boptest-rules.urn#> .\n",
    "@prefix brick: <https://brickschema.org/schema/Brick#> .\n",
    "@prefix hpfs: <urn:hpflex/shapes#> .\n",
    "@prefix quantitykind: <http://qudt.org/vocab/quantitykind/> .\n",
    "@prefix qudt: <http://qudt.org/schema/qudt/> .\n",
    "@prefix ref: <https://brickschema.org/schema/Brick/ref#> .\n",
    "@prefix xsd: <http://www.w3.org/2001/XMLSchema#> .\n",
    "\n",
    "@prefix s223: <http://data.ashrae.org/standard223#> .\n",
    "@prefix sh: <http://www.w3.org/ns/shacl#> .\n",
    "\n",
    "@prefix ctrl: <urn:mycontroller.urn#> .\n",
    "\n",
    "ctrl:controller hpfs:controls hpfs:zone .\n",
    "\n",
    "ctrl:heaset_u hpfs:binds hpfs:heaset .\n",
    "ctrl:cooset_u hpfs:binds hpfs:cooset .\n",
    "ctrl:temp_u hpfs:binds hpfs:temp .\n",
    "ctrl:temp_y hpfs:binds hpfs:temp . \n",
    "\"\"\""
   ]
  },
  {
   "cell_type": "code",
   "execution_count": 13,
   "id": "44d3a006",
   "metadata": {},
   "outputs": [
    {
     "name": "stdout",
     "output_type": "stream",
     "text": [
      "looking for template:  zone\n"
     ]
    }
   ],
   "source": [
    "# the graph that represents the controller (exported from modelica)\n",
    "ctrl_graph = Graph()\n",
    "ctrl_graph.parse(data=data, format='turtle')\n",
    "target_template_uri = list(ctrl_graph[:HPFS.controls:])[0][1]\n",
    "target_template_name = get_uri_name(ctrl_graph, target_template_uri)\n",
    "# Get what the controller is supposed to control \n",
    "print('looking for template: ',target_template_name)\n",
    "\n",
    "# Load the graph and get all the opjects matching this \n",
    "loader = LoadModel(f\"inferred_graph.ttl\", \n",
    "                   template_dict={'control_target': target_template_name}, \n",
    "                   ontology = ontology,\n",
    "                   template_dir = 'templates')\n",
    "site_data = loader.get_all_building_objects()\n",
    "\n",
    "# get targets of our controls\n",
    "control_targets = site_data['control_target']"
   ]
  },
  {
   "cell_type": "code",
   "execution_count": 14,
   "id": "a90ebab2",
   "metadata": {},
   "outputs": [
    {
     "name": "stdout",
     "output_type": "stream",
     "text": [
      "for Target: https://BESTESTAir.urn#flo_Wes\n",
      "Point urn:mycontroller.urn#heaset_u binds Value(value=hvac_oveZonSupWes_TZonHeaSet_u, unit='http://qudt.org/schema/qudt/K')\n",
      "Point urn:mycontroller.urn#cooset_u binds Value(value=hvac_oveZonSupWes_TZonCooSet_u, unit='http://qudt.org/schema/qudt/K')\n",
      "Point urn:mycontroller.urn#temp_u binds Value(value=hvac_reaZonWes_TZon_y , unit='http://qudt.org/schema/qudt/K')\n",
      "Point urn:mycontroller.urn#temp_y binds Value(value=hvac_reaZonWes_TZon_y , unit='http://qudt.org/schema/qudt/K')\n",
      "--------------------\n",
      "for Target: https://BESTESTAir.urn#flo_Sou\n",
      "Point urn:mycontroller.urn#heaset_u binds Value(value=hvac_oveZonSupSou_TZonHeaSet_u, unit='http://qudt.org/schema/qudt/K')\n",
      "Point urn:mycontroller.urn#cooset_u binds Value(value=hvac_oveZonSupSou_TZonCooSet_u, unit='http://qudt.org/schema/qudt/K')\n",
      "Point urn:mycontroller.urn#temp_u binds Value(value=hvac_reaZonSou_TZon_y , unit='http://qudt.org/schema/qudt/K')\n",
      "Point urn:mycontroller.urn#temp_y binds Value(value=hvac_reaZonSou_TZon_y , unit='http://qudt.org/schema/qudt/K')\n",
      "--------------------\n",
      "for Target: https://BESTESTAir.urn#flo_Nor\n",
      "Point urn:mycontroller.urn#heaset_u binds Value(value=hvac_oveZonSupNor_TZonHeaSet_u, unit='http://qudt.org/schema/qudt/K')\n",
      "Point urn:mycontroller.urn#cooset_u binds Value(value=hvac_oveZonSupNor_TZonCooSet_u, unit='http://qudt.org/schema/qudt/K')\n",
      "Point urn:mycontroller.urn#temp_u binds Value(value=hvac_reaZonNor_TZon_y , unit='http://qudt.org/schema/qudt/K')\n",
      "Point urn:mycontroller.urn#temp_y binds Value(value=hvac_reaZonNor_TZon_y , unit='http://qudt.org/schema/qudt/K')\n",
      "--------------------\n",
      "for Target: https://BESTESTAir.urn#flo_Eas\n",
      "Point urn:mycontroller.urn#heaset_u binds Value(value=hvac_oveZonSupEas_TZonHeaSet_u, unit='http://qudt.org/schema/qudt/K')\n",
      "Point urn:mycontroller.urn#cooset_u binds Value(value=hvac_oveZonSupEas_TZonCooSet_u, unit='http://qudt.org/schema/qudt/K')\n",
      "Point urn:mycontroller.urn#temp_u binds Value(value=hvac_reaZonEas_TZon_y , unit='http://qudt.org/schema/qudt/K')\n",
      "Point urn:mycontroller.urn#temp_y binds Value(value=hvac_reaZonEas_TZon_y , unit='http://qudt.org/schema/qudt/K')\n",
      "--------------------\n",
      "for Target: https://BESTESTAir.urn#flo_Cor\n",
      "Point urn:mycontroller.urn#heaset_u binds Value(value=hvac_oveZonSupCor_TZonHeaSet_u, unit='http://qudt.org/schema/qudt/K')\n",
      "Point urn:mycontroller.urn#cooset_u binds Value(value=hvac_oveZonSupCor_TZonCooSet_u, unit='http://qudt.org/schema/qudt/K')\n",
      "Point urn:mycontroller.urn#temp_u binds Value(value=hvac_reaZonCor_TZon_y , unit='http://qudt.org/schema/qudt/K')\n",
      "Point urn:mycontroller.urn#temp_y binds Value(value=hvac_reaZonCor_TZon_y , unit='http://qudt.org/schema/qudt/K')\n",
      "--------------------\n"
     ]
    }
   ],
   "source": [
    "# get bindings of the controller \n",
    "bindings = list(ctrl_graph[:HPFS.binds:])\n",
    "for target in control_targets:\n",
    "    print(f\"for Target: {target.name}\")\n",
    "    for binding in bindings:\n",
    "        binding_name = binding[1].split('#')[-1]\n",
    "        print(f'Point {binding[0]} binds {getattr(target, binding_name)}')\n",
    "    print('-'*20)\n",
    "\n"
   ]
  },
  {
   "cell_type": "code",
   "execution_count": null,
   "id": "990a2386",
   "metadata": {},
   "outputs": [],
   "source": []
  },
  {
   "cell_type": "code",
   "execution_count": null,
   "id": "c19857a5",
   "metadata": {},
   "outputs": [],
   "source": [
    "# Let's try option 2, the detailed option\n",
    "data = \"\"\"\n",
    "@prefix bldg: <https://BESTESTAir.urn#> .\n",
    "@prefix boptestrules: <https://boptest-rules.urn#> .\n",
    "@prefix brick: <https://brickschema.org/schema/Brick#> .\n",
    "@prefix hpfs: <urn:hpflex/shapes#> .\n",
    "@prefix quantitykind: <http://qudt.org/vocab/quantitykind/> .\n",
    "@prefix qudt: <http://qudt.org/schema/qudt/> .\n",
    "@prefix ref: <https://brickschema.org/schema/Brick/ref#> .\n",
    "@prefix xsd: <http://www.w3.org/2001/XMLSchema#> .\n",
    "\n",
    "@prefix s223: <http://data.ashrae.org/standard223#> .\n",
    "@prefix sh: <http://www.w3.org/ns/shacl#> .\n",
    "\n",
    "@prefix ctrl: <urn:mycontroller.urn#> .\n",
    "\n",
    "ctrl:controller a hpfs:zone-temp-controller ; \n",
    "    s223:hasInput ctrl:heaset_u, ctrl:cooset_u, ctrl:temp_u ;\n",
    "    s223:hasOutput ctrl:temp_y .\n",
    "\n",
    "ctrl:heaset_u a hpfs:heaset_u .\n",
    "ctrl:cooset_u a hpfs:cooset_u .\n",
    "ctrl:temp_u a hpfs:temp_u .\n",
    "ctrl:temp_y a hpfs:temp_y . \n",
    "\"\"\""
   ]
  },
  {
   "cell_type": "code",
   "execution_count": 16,
   "id": "b23959c5",
   "metadata": {},
   "outputs": [
    {
     "data": {
      "text/plain": [
       "<Graph identifier=Na48e49a9b1b7416199fe572262802856 (<class 'rdflib.graph.Graph'>)>"
      ]
     },
     "execution_count": 16,
     "metadata": {},
     "output_type": "execute_result"
    }
   ],
   "source": [
    "# the graph that represents the controller (exported from modelica)\n",
    "ctrl_graph = Graph()\n",
    "ctrl_graph.parse(data=data, format='turtle')"
   ]
  },
  {
   "cell_type": "code",
   "execution_count": 17,
   "id": "7366f624",
   "metadata": {},
   "outputs": [],
   "source": [
    "def remove_optional_deps(template):\n",
    "    opt_args = template.optional_args\n",
    "    for opt_arg in opt_args:\n",
    "        template.remove_dependency(template.dependency_for_parameter(opt_arg))"
   ]
  },
  {
   "cell_type": "code",
   "execution_count": 18,
   "id": "82f495a5",
   "metadata": {},
   "outputs": [
    {
     "name": "stdout",
     "output_type": "stream",
     "text": [
      "ctrl_point:  urn:mycontroller.urn#controller\n",
      "Param:  temp_u\n",
      "param_type:  temp_u\n",
      "matching point:  urn:mycontroller.urn#temp_u\n",
      "Param:  heaset_u\n",
      "param_type:  heaset_u\n",
      "matching point:  urn:mycontroller.urn#heaset_u\n",
      "Param:  temp_y\n",
      "param_type:  temp_y\n",
      "matching point:  urn:mycontroller.urn#temp_y\n",
      "Param:  name\n",
      "Param:  cooset_u\n",
      "param_type:  cooset_u\n",
      "matching point:  urn:mycontroller.urn#cooset_u\n",
      "--------------------\n",
      "ctrl_point:  urn:mycontroller.urn#heaset_u\n",
      "Param:  heaset\n",
      "param_type:  heaset\n",
      "matching point:  None\n",
      "Param:  name\n",
      "--------------------\n",
      "ctrl_point:  urn:mycontroller.urn#cooset_u\n",
      "Param:  cooset\n",
      "param_type:  cooset\n",
      "matching point:  None\n",
      "Param:  name\n",
      "--------------------\n",
      "ctrl_point:  urn:mycontroller.urn#temp_u\n",
      "Param:  temp\n",
      "param_type:  temp\n",
      "matching point:  None\n",
      "Param:  name\n",
      "--------------------\n",
      "ctrl_point:  urn:mycontroller.urn#temp_y\n",
      "Param:  temp\n",
      "param_type:  temp\n",
      "matching point:  None\n",
      "Param:  name\n",
      "--------------------\n",
      "ctrl_point:  urn:mycontroller.urn#controller\n",
      "Param:  temp_u\n",
      "param_type:  temp_u\n",
      "matching point:  urn:mycontroller.urn#temp_u\n",
      "Param:  heaset_u\n",
      "param_type:  heaset_u\n",
      "matching point:  urn:mycontroller.urn#heaset_u\n",
      "Param:  temp_y\n",
      "param_type:  temp_y\n",
      "matching point:  urn:mycontroller.urn#temp_y\n",
      "Param:  name\n",
      "Param:  cooset_u\n",
      "param_type:  cooset_u\n",
      "matching point:  urn:mycontroller.urn#cooset_u\n",
      "--------------------\n",
      "ctrl_point:  urn:mycontroller.urn#heaset_u\n",
      "Param:  heaset\n",
      "param_type:  heaset\n",
      "matching point:  None\n",
      "Param:  name\n",
      "--------------------\n",
      "ctrl_point:  urn:mycontroller.urn#cooset_u\n",
      "Param:  cooset\n",
      "param_type:  cooset\n",
      "matching point:  None\n",
      "Param:  name\n",
      "--------------------\n",
      "ctrl_point:  urn:mycontroller.urn#temp_u\n",
      "Param:  temp\n",
      "param_type:  temp\n",
      "matching point:  None\n",
      "Param:  name\n",
      "--------------------\n",
      "ctrl_point:  urn:mycontroller.urn#temp_y\n",
      "Param:  temp\n",
      "param_type:  temp\n",
      "matching point:  None\n",
      "Param:  name\n",
      "--------------------\n",
      "ctrl_point:  urn:mycontroller.urn#controller\n",
      "Param:  temp_u\n",
      "param_type:  temp_u\n",
      "matching point:  urn:mycontroller.urn#temp_u\n",
      "Param:  heaset_u\n",
      "param_type:  heaset_u\n",
      "matching point:  urn:mycontroller.urn#heaset_u\n",
      "Param:  temp_y\n",
      "param_type:  temp_y\n",
      "matching point:  urn:mycontroller.urn#temp_y\n",
      "Param:  name\n",
      "Param:  cooset_u\n",
      "param_type:  cooset_u\n",
      "matching point:  urn:mycontroller.urn#cooset_u\n",
      "--------------------\n",
      "ctrl_point:  urn:mycontroller.urn#heaset_u\n",
      "Param:  heaset\n",
      "param_type:  heaset\n",
      "matching point:  None\n",
      "Param:  name\n",
      "--------------------\n",
      "ctrl_point:  urn:mycontroller.urn#cooset_u\n",
      "Param:  cooset\n",
      "param_type:  cooset\n",
      "matching point:  None\n",
      "Param:  name\n",
      "--------------------\n",
      "ctrl_point:  urn:mycontroller.urn#temp_u\n",
      "Param:  temp\n",
      "param_type:  temp\n",
      "matching point:  None\n",
      "Param:  name\n",
      "--------------------\n",
      "ctrl_point:  urn:mycontroller.urn#temp_y\n",
      "Param:  temp\n",
      "param_type:  temp\n",
      "matching point:  None\n",
      "Param:  name\n",
      "--------------------\n",
      "ctrl_point:  urn:mycontroller.urn#controller\n",
      "Param:  temp_u\n",
      "param_type:  temp_u\n",
      "matching point:  urn:mycontroller.urn#temp_u\n",
      "Param:  heaset_u\n",
      "param_type:  heaset_u\n",
      "matching point:  urn:mycontroller.urn#heaset_u\n",
      "Param:  temp_y\n",
      "param_type:  temp_y\n",
      "matching point:  urn:mycontroller.urn#temp_y\n",
      "Param:  name\n",
      "Param:  cooset_u\n",
      "param_type:  cooset_u\n",
      "matching point:  urn:mycontroller.urn#cooset_u\n",
      "--------------------\n",
      "ctrl_point:  urn:mycontroller.urn#heaset_u\n",
      "Param:  heaset\n",
      "param_type:  heaset\n",
      "matching point:  None\n",
      "Param:  name\n",
      "--------------------\n",
      "ctrl_point:  urn:mycontroller.urn#cooset_u\n",
      "Param:  cooset\n",
      "param_type:  cooset\n",
      "matching point:  None\n",
      "Param:  name\n",
      "--------------------\n",
      "ctrl_point:  urn:mycontroller.urn#temp_u\n",
      "Param:  temp\n",
      "param_type:  temp\n",
      "matching point:  None\n",
      "Param:  name\n",
      "--------------------\n",
      "ctrl_point:  urn:mycontroller.urn#temp_y\n",
      "Param:  temp\n",
      "param_type:  temp\n",
      "matching point:  None\n",
      "Param:  name\n",
      "--------------------\n",
      "ctrl_point:  urn:mycontroller.urn#controller\n",
      "Param:  temp_u\n",
      "param_type:  temp_u\n",
      "matching point:  urn:mycontroller.urn#temp_u\n",
      "Param:  heaset_u\n",
      "param_type:  heaset_u\n",
      "matching point:  urn:mycontroller.urn#heaset_u\n",
      "Param:  temp_y\n",
      "param_type:  temp_y\n",
      "matching point:  urn:mycontroller.urn#temp_y\n",
      "Param:  name\n",
      "Param:  cooset_u\n",
      "param_type:  cooset_u\n",
      "matching point:  urn:mycontroller.urn#cooset_u\n",
      "--------------------\n",
      "ctrl_point:  urn:mycontroller.urn#heaset_u\n",
      "Param:  heaset\n",
      "param_type:  heaset\n",
      "matching point:  None\n",
      "Param:  name\n",
      "--------------------\n",
      "ctrl_point:  urn:mycontroller.urn#cooset_u\n",
      "Param:  cooset\n",
      "param_type:  cooset\n",
      "matching point:  None\n",
      "Param:  name\n",
      "--------------------\n",
      "ctrl_point:  urn:mycontroller.urn#temp_u\n",
      "Param:  temp\n",
      "param_type:  temp\n",
      "matching point:  None\n",
      "Param:  name\n",
      "--------------------\n",
      "ctrl_point:  urn:mycontroller.urn#temp_y\n",
      "Param:  temp\n",
      "param_type:  temp\n",
      "matching point:  None\n",
      "Param:  name\n",
      "--------------------\n"
     ]
    }
   ],
   "source": [
    "# We will instantiate the controller for each zone and add it to a new graph\n",
    "ctrl_bldg_graph = Graph()\n",
    "for zone in site_info['zones']:\n",
    "    # ctrl graph indicates the names of each parameter and what templates are used\n",
    "    for ctrl_point, klass in ctrl_graph[:A:]:\n",
    "        # get the template\n",
    "        template_name = get_uri_name(ctrl_graph, klass)\n",
    "        template = loader.library.get_template_by_name(template_name)\n",
    "        param_values = {}\n",
    "        print('ctrl_point: ', ctrl_point)\n",
    "        for p in template.parameters:\n",
    "            print('Param: ', p)\n",
    "            if p == 'name':\n",
    "                param_values[p] = ctrl_point\n",
    "                continue\n",
    "            param_type = template.dependency_for_parameter(p)\n",
    "            print('param_type: ',param_type.name)\n",
    "            point = ctrl_graph.value(None, A, HPFS[param_type.name])\n",
    "            print('matching point: ',point)\n",
    "        print('-'* 20)\n",
    "        \n",
    "        # loader.list_available_templates()"
   ]
  },
  {
   "cell_type": "code",
   "execution_count": 19,
   "id": "7f842d80",
   "metadata": {},
   "outputs": [
    {
     "data": {
      "text/plain": [
       "{'cooset_u', 'heaset_u', 'name', 'temp_u', 'temp_y'}"
      ]
     },
     "execution_count": 19,
     "metadata": {},
     "output_type": "execute_result"
    }
   ],
   "source": [
    "template = loader.library.get_template_by_name('zone-temp-controller')\n",
    "template.parameters"
   ]
  },
  {
   "cell_type": "code",
   "execution_count": 20,
   "id": "05037285",
   "metadata": {},
   "outputs": [
    {
     "data": {
      "text/plain": [
       "Template(_id=10, _name='temp_u', body=<Graph identifier=00825b8d-0c9d-4cdb-85d6-63f68a3e3602 (<class 'rdflib.graph.Graph'>)>, optional_args=['temp'], _bm=<buildingmotif.building_motif.building_motif.BuildingMOTIF object at 0x11e4168d0>)"
      ]
     },
     "execution_count": 20,
     "metadata": {},
     "output_type": "execute_result"
    }
   ],
   "source": [
    "template.dependency_for_parameter('temp_u')"
   ]
  },
  {
   "cell_type": "code",
   "execution_count": 21,
   "id": "608962b1",
   "metadata": {},
   "outputs": [
    {
     "data": {
      "text/plain": [
       "'cooset_u'"
      ]
     },
     "execution_count": 21,
     "metadata": {},
     "output_type": "execute_result"
    }
   ],
   "source": [
    "template.dependency_for_parameter('cooset_u').name"
   ]
  },
  {
   "cell_type": "code",
   "execution_count": 22,
   "id": "3eccbfa9",
   "metadata": {},
   "outputs": [],
   "source": [
    "d = template.get_dependencies()[0]"
   ]
  },
  {
   "cell_type": "code",
   "execution_count": 23,
   "id": "97daffa8",
   "metadata": {},
   "outputs": [
    {
     "data": {
      "text/plain": [
       "['__annotations__',\n",
       " '__class__',\n",
       " '__dataclass_fields__',\n",
       " '__dataclass_params__',\n",
       " '__delattr__',\n",
       " '__dict__',\n",
       " '__dir__',\n",
       " '__doc__',\n",
       " '__eq__',\n",
       " '__format__',\n",
       " '__ge__',\n",
       " '__getattribute__',\n",
       " '__getstate__',\n",
       " '__gt__',\n",
       " '__hash__',\n",
       " '__init__',\n",
       " '__init_subclass__',\n",
       " '__le__',\n",
       " '__lt__',\n",
       " '__match_args__',\n",
       " '__module__',\n",
       " '__ne__',\n",
       " '__new__',\n",
       " '__reduce__',\n",
       " '__reduce_ex__',\n",
       " '__repr__',\n",
       " '__setattr__',\n",
       " '__sizeof__',\n",
       " '__str__',\n",
       " '__subclasshook__',\n",
       " '__weakref__',\n",
       " '_bm',\n",
       " '_id',\n",
       " '_name',\n",
       " 'add_dependency',\n",
       " 'all_parameters',\n",
       " 'body',\n",
       " 'check_dependencies',\n",
       " 'defining_library',\n",
       " 'dependency_for_parameter',\n",
       " 'dependency_parameters',\n",
       " 'evaluate',\n",
       " 'fill',\n",
       " 'find_subgraphs',\n",
       " 'generate_csv',\n",
       " 'generate_spreadsheet',\n",
       " 'get_dependencies',\n",
       " 'id',\n",
       " 'in_memory_copy',\n",
       " 'inline_dependencies',\n",
       " 'library_dependencies',\n",
       " 'load',\n",
       " 'name',\n",
       " 'optional_args',\n",
       " 'parameter_counts',\n",
       " 'parameters',\n",
       " 'remove_dependency',\n",
       " 'to_inline',\n",
       " 'transitive_parameters']"
      ]
     },
     "execution_count": 23,
     "metadata": {},
     "output_type": "execute_result"
    }
   ],
   "source": [
    "dir(template)"
   ]
  },
  {
   "cell_type": "code",
   "execution_count": 24,
   "id": "f4384954",
   "metadata": {},
   "outputs": [],
   "source": [
    "template = loader.library.get_template_by_name('heaset_u')"
   ]
  },
  {
   "cell_type": "code",
   "execution_count": 25,
   "id": "7fc5c59b",
   "metadata": {},
   "outputs": [
    {
     "data": {
      "text/plain": [
       "['heaset']"
      ]
     },
     "execution_count": 25,
     "metadata": {},
     "output_type": "execute_result"
    }
   ],
   "source": [
    "template.optional_args"
   ]
  },
  {
   "cell_type": "code",
   "execution_count": 26,
   "id": "04f25be7",
   "metadata": {},
   "outputs": [
    {
     "data": {
      "text/plain": [
       "Template(_id=6, _name='heaset', body=<Graph identifier=3733bafb-1802-442c-9af3-742ad8ed3d5c (<class 'rdflib.graph.Graph'>)>, optional_args=[], _bm=<buildingmotif.building_motif.building_motif.BuildingMOTIF object at 0x11e4168d0>)"
      ]
     },
     "execution_count": 26,
     "metadata": {},
     "output_type": "execute_result"
    }
   ],
   "source": [
    "template.dependency_for_parameter('heaset')"
   ]
  },
  {
   "cell_type": "code",
   "execution_count": 27,
   "id": "c6396433",
   "metadata": {},
   "outputs": [
    {
     "name": "stdout",
     "output_type": "stream",
     "text": [
      "@prefix brick: <https://brickschema.org/schema/Brick#> .\n",
      "@prefix ns1: <https://brickschema.org/schema/Brick/ref#> .\n",
      "@prefix ns2: <http://data.ashrae.org/standard223#> .\n",
      "@prefix ns3: <http://qudt.org/schema/qudt/> .\n",
      "\n",
      "<urn:___param___#name> a ns2:FunctionInput ;\n",
      "    ns2:uses <urn:___param___#heaset> .\n",
      "\n",
      "<urn:___param___#heaset> a brick:Zone_Air_Heating_Temperature_Setpoint ;\n",
      "    ns3:hasUnit ns3:K ;\n",
      "    ns1:hasExternalReference <urn:___param___#heaset-ref> .\n",
      "\n",
      "<urn:___param___#heaset-ref> a ns1:BOPTestReference .\n",
      "\n",
      "\n"
     ]
    }
   ],
   "source": [
    "template.inline_dependencies().body.print()"
   ]
  },
  {
   "cell_type": "code",
   "execution_count": 28,
   "id": "3676dcff",
   "metadata": {},
   "outputs": [],
   "source": [
    "# option 1, also need to make up what equipment the controller is going to control\n",
    "data = \"\"\"\n",
    "@prefix bldg: <https://BESTESTAir.urn#> .\n",
    "@prefix boptestrules: <https://boptest-rules.urn#> .\n",
    "@prefix brick: <https://brickschema.org/schema/Brick#> .\n",
    "@prefix hpfs: <urn:hpflex/shapes#> .\n",
    "@prefix quantitykind: <http://qudt.org/vocab/quantitykind/> .\n",
    "@prefix qudt: <http://qudt.org/schema/qudt/> .\n",
    "@prefix ref: <https://brickschema.org/schema/Brick/ref#> .\n",
    "@prefix xsd: <http://www.w3.org/2001/XMLSchema#> .\n",
    "\n",
    "@prefix s223: <http://data.ashrae.org/standard223#> .\n",
    "@prefix sh: <http://www.w3.org/ns/shacl#> .\n",
    "\n",
    "@prefix ctrl: <urn:mycontroller.urn#> .\n",
    "\n",
    "ctrl:controller hpfs:input ctrl:heaset_u, ctrl:cooset_u, ctrl:temp_u ;\n",
    "    s223:output ctrl:temp_y .\n",
    "\n",
    "ctrl:heaset_u hpfs:uses hpfs:heaset .\n",
    "ctrl:cooset_u hpfs:uses hpfs:cooset .\n",
    "ctrl:temp_u hpfs:uses hpfs:temp .\n",
    "ctrl:temp_y hpfs:uses hpfs:temp . \n",
    "\"\"\""
   ]
  }
 ],
 "metadata": {
  "kernelspec": {
   "display_name": "simbuild-semantic-25",
   "language": "python",
   "name": "python3"
  },
  "language_info": {
   "codemirror_mode": {
    "name": "ipython",
    "version": 3
   },
   "file_extension": ".py",
   "mimetype": "text/x-python",
   "name": "python",
   "nbconvert_exporter": "python",
   "pygments_lexer": "ipython3",
   "version": "3.11.11"
  }
 },
 "nbformat": 4,
 "nbformat_minor": 5
}
